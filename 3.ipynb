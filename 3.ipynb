{
 "cells": [
  {
   "cell_type": "code",
   "execution_count": 1,
   "id": "75cb142d-6c0f-44fd-80ed-fba0825367fe",
   "metadata": {},
   "outputs": [
    {
     "name": "stdout",
     "output_type": "stream",
     "text": [
      "Classification Accuracy : 0.20\n",
      "MSE Regression : 0.92\n"
     ]
    }
   ],
   "source": [
    "import pandas as pd\n",
    "import numpy as np\n",
    "from sklearn.model_selection import train_test_split\n",
    "from sklearn.preprocessing import LabelEncoder\n",
    "from sklearn.neighbors import KNeighborsClassifier,KNeighborsRegressor\n",
    "from sklearn.metrics import accuracy_score,mean_squared_error\n",
    "data={\n",
    "    'brightness':np.random.rand(100)*100,\n",
    "    'saturation':np.random.rand(100)*100,\n",
    "    'class':np.random.choice(['A','B','C'],100)\n",
    "}\n",
    "df=pd.DataFrame(data)\n",
    "df.to_csv(\"features.csv\",index=False)\n",
    "df=pd.read_csv(\"features.csv\")\n",
    "encoder=LabelEncoder()\n",
    "df['class']=encoder.fit_transform(df['class'])\n",
    "x=df[['brightness','saturation']]\n",
    "y_class=df['class']\n",
    "x_train_class,x_test_class,y_train_class,y_test_class=train_test_split(x,y_class,test_size=0.2,random_state=42)\n",
    "knn_classifier=KNeighborsClassifier(n_neighbors=5)\n",
    "knn_classifier.fit(x_train_class,y_train_class)\n",
    "y_pred_class=knn_classifier.predict(x_test_class)\n",
    "accuracy=accuracy_score(y_test_class,y_pred_class)\n",
    "print(f\"Classification Accuracy : {accuracy:.2f}\")\n",
    "y_regress=df['class']\n",
    "x_train_regress,x_test_regress,y_train_regress,y_test_regress=train_test_split(x,y_regress,test_size=0.2,random_state=42)\n",
    "knn_regressor=KNeighborsRegressor(n_neighbors=5)\n",
    "knn_regressor.fit(x_train_regress,y_train_regress)\n",
    "y_pred_regress=knn_regressor.predict(x_test_regress)\n",
    "mse=mean_squared_error(y_test_regress,y_pred_regress)\n",
    "print(f\"MSE Regression : {mse:.2f}\")"
   ]
  },
  {
   "cell_type": "code",
   "execution_count": null,
   "id": "c6da6dfd-9a78-48cd-8bed-fee3877122a3",
   "metadata": {},
   "outputs": [],
   "source": []
  }
 ],
 "metadata": {
  "kernelspec": {
   "display_name": "Python [conda env:base] *",
   "language": "python",
   "name": "conda-base-py"
  },
  "language_info": {
   "codemirror_mode": {
    "name": "ipython",
    "version": 3
   },
   "file_extension": ".py",
   "mimetype": "text/x-python",
   "name": "python",
   "nbconvert_exporter": "python",
   "pygments_lexer": "ipython3",
   "version": "3.12.7"
  }
 },
 "nbformat": 4,
 "nbformat_minor": 5
}
